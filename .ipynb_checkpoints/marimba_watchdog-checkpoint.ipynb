{
 "cells": [
  {
   "cell_type": "code",
   "execution_count": 13,
   "metadata": {},
   "outputs": [
    {
     "name": "stdout",
     "output_type": "stream",
     "text": [
      "The autoreload extension is already loaded. To reload it, use:\n",
      "  %reload_ext autoreload\n"
     ]
    }
   ],
   "source": [
    "''' >NUL  2>NUL\n",
    "@echo off\n",
    "cd /d %~dp0\n",
    ":loop\n",
    "python %0 %*\n",
    "goto loop\n",
    "'''\n",
    "\n",
    "from misc import *\n",
    "if is_interactive():\n",
    "    %load_ext autoreload\n",
    "    %autoreload 2\n",
    "    \n",
    "#https://docs.microsoft.com/en-us/previous-versions\n",
    "#/office/developer/office-2003/aa174290(v=office.11)\n",
    "from marimba import *"
   ]
  },
  {
   "cell_type": "code",
   "execution_count": 2,
   "metadata": {},
   "outputs": [],
   "source": [
    "jupyter_name = 'marimba_watchdog'\n",
    "if is_interactive():\n",
    "    import os\n",
    "    import subprocess\n",
    "    subprocess.call(['jupyter',\n",
    "                     'nbconvert',\n",
    "                     '--to',\n",
    "                     'script',\n",
    "                     jupyter_name+'.ipynb'])\n",
    "    try:\n",
    "        os.remove(jupyter_name+'.bat')\n",
    "    except: pass\n",
    "    os.rename(jupyter_name+'.py', jupyter_name+'.bat')"
   ]
  },
  {
   "cell_type": "code",
   "execution_count": 17,
   "metadata": {},
   "outputs": [
    {
     "name": "stdout",
     "output_type": "stream",
     "text": [
      "Test workbook:  C:\\Program Files (x86)\\Microsoft Office\\Root\\Office16\\Library\\Analysis\\FUNCRES.XLAM\n",
      "Test workbook:  C:\\Users\\DIRK\\Google Drive\\#Dirk\\Marimba\\excel-driven\\marimba-sheet.xlsx\n",
      "We have --> C:\\Users\\DIRK\\Google Drive\\#Dirk\\Marimba\\excel-driven\\marimba-sheet.xlsx\n"
     ]
    }
   ],
   "source": [
    "wb, sheets = get_spreadsheet_with(['python_input', 'python_output', 'verbose'])\n"
   ]
  },
  {
   "cell_type": "code",
   "execution_count": 16,
   "metadata": {},
   "outputs": [
    {
     "name": "stdout",
     "output_type": "stream",
     "text": [
      "{'python_input': <COMObject <unknown>>, 'python_output': <COMObject <unknown>>, 'verbose': <COMObject <unknown>>}\n"
     ]
    },
    {
     "data": {
      "text/plain": [
       "{'': {'uid': 'A2'},\n",
       " 'bar_parameters': {'density': 'L2',\n",
       "  'length': 'H2',\n",
       "  'node-x': 'G2',\n",
       "  'thickness': 'J2',\n",
       "  'width': 'I2',\n",
       "  'youngs': 'K2'},\n",
       " 'cnc': {'drill_diam': 'M2', 'f': 'N2', 's': 'O2'},\n",
       " 'cur_coeffs': {'c0': 'AK2', 'c1': 'AL2', 'c2': 'AM2'},\n",
       " 'cur_raw_fem': {'f0': 'AH2', 'f1': 'AI2', 'f2': 'AJ2'},\n",
       " 'cur_target_calibrated_fem': {'f0': 'AE2', 'f1': 'AF2', 'f2': 'AG2'},\n",
       " 'final_frequency': {'f0': 'P2', 'f1': 'Q2', 'f2': 'R2'},\n",
       " 'initials': {'date': 'B2',\n",
       "  'initial': 'C2',\n",
       "  'note': 'D2',\n",
       "  'tuning': 'E2',\n",
       "  'undercut': 'F2'},\n",
       " 'measured': {'f0': 'S2', 'f1': 'T2', 'f2': 'U2'},\n",
       " 'output': {'cut_point': 'AN2', 'z-cntre': 'AO2', 'z-min': 'AP2'},\n",
       " 'prev_coeffs': {'c0': 'AB2', 'c1': 'AC2', 'c2': 'AD2'},\n",
       " 'prev_raw_fem': {'f0': 'Y2', 'f1': 'Z2', 'f2': 'AA2'},\n",
       " 'prev_target_calibrated_fem': {'f0': 'V2', 'f1': 'W2', 'f2': 'X2'},\n",
       " 'tuning': {'f0': 'AQ2', 'f1': 'AR2', 'f2': 'AS2'}}"
      ]
     },
     "execution_count": 16,
     "metadata": {},
     "output_type": "execute_result"
    }
   ],
   "source": [
    "print(sheets)\n",
    "get_header_structure(sheets.python_output, 2)"
   ]
  },
  {
   "cell_type": "code",
   "execution_count": null,
   "metadata": {},
   "outputs": [],
   "source": [
    "coeffs=[6,0.3000,0.0030]\n",
    "n_elements=300\n",
    "    \n",
    "raw_to_meas = ([100      , 1000,      10000],\n",
    "               [90.716097, 889.13575, 8566.6892])\n",
    "\n",
    "block = ddict(\n",
    "    width=0.0600, \n",
    "    depth=0.0192, \n",
    "    length=0.3000,\n",
    "    E=1.25e+10,\n",
    "    rho=650,\n",
    "    nu = 0.3\n",
    "    )\n",
    "\n",
    "out = ddict(coeffs=coeffs,\n",
    "            err=np.inf)\n",
    "\n",
    "for i in range(10):\n",
    "    print(out)\n",
    "    if out.err < 1:\n",
    "        break\n",
    "        \n",
    "    out = get_bar_shape(block,\n",
    "                        [120,  500, 1200],\n",
    "                        *raw_to_meas,\n",
    "                        coeffs_initial=out.coeffs)\n",
    "    print(out.cents)\n",
    "    print(out.freqs_calib)\n",
    "    \n",
    "    plt.figure(figsize=[12,4])\n",
    "    plt.plot(out.block.line_xx*1000, out.block.line_yy*1000)\n",
    "    plt.show()"
   ]
  },
  {
   "cell_type": "code",
   "execution_count": null,
   "metadata": {},
   "outputs": [],
   "source": []
  }
 ],
 "metadata": {
  "kernelspec": {
   "display_name": "Python 3",
   "language": "python",
   "name": "python3"
  },
  "language_info": {
   "codemirror_mode": {
    "name": "ipython",
    "version": 3
   },
   "file_extension": ".py",
   "mimetype": "text/x-python",
   "name": "python",
   "nbconvert_exporter": "python",
   "pygments_lexer": "ipython3",
   "version": "3.6.4"
  }
 },
 "nbformat": 4,
 "nbformat_minor": 4
}
