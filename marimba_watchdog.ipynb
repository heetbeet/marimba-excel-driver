{
 "cells": [
  {
   "cell_type": "code",
   "execution_count": null,
   "metadata": {},
   "outputs": [],
   "source": [
    "''' >NUL  2>NUL\n",
    "@echo off\n",
    "cd /d %~dp0\n",
    ":loop\n",
    "python %0 %*\n",
    "goto loop\n",
    "'''\n",
    "\n",
    "from misc import *\n",
    "if is_interactive():\n",
    "    %load_ext autoreload\n",
    "    %autoreload 2\n",
    "    \n",
    "#https://docs.microsoft.com/en-us/previous-versions\n",
    "#/office/developer/office-2003/aa174290(v=office.11)\n",
    "from marimba import *"
   ]
  },
  {
   "cell_type": "code",
   "execution_count": null,
   "metadata": {},
   "outputs": [],
   "source": [
    "jupyter_name = 'marimba_watchdog'\n",
    "if is_interactive():\n",
    "    import os\n",
    "    import subprocess\n",
    "    subprocess.call(['jupyter',\n",
    "                     'nbconvert',\n",
    "                     '--to',\n",
    "                     'script',\n",
    "                     jupyter_name+'.ipynb'])\n",
    "    try:\n",
    "        os.remove(jupyter_name+'.bat')\n",
    "    except: pass\n",
    "    os.rename(jupyter_name+'.py', jupyter_name+'.bat')"
   ]
  },
  {
   "cell_type": "code",
   "execution_count": null,
   "metadata": {},
   "outputs": [],
   "source": [
    "wb, sheets = get_spreadsheet_with(['python_input', 'python_output', 'verbose'])\n",
    "#get_header_structure(sheets.python_input)"
   ]
  },
  {
   "cell_type": "code",
   "execution_count": null,
   "metadata": {},
   "outputs": [],
   "source": [
    "coeffs=[6,0.3000,0.0030]\n",
    "n_elements=300\n",
    "    \n",
    "raw_to_meas = ([100      , 1000,      10000],\n",
    "               [90.716097, 889.13575, 8566.6892])\n",
    "\n",
    "block = ddict(\n",
    "    width=0.0600, \n",
    "    depth=0.0192, \n",
    "    length=0.3000,\n",
    "    E=1.25e+10,\n",
    "    rho=650,\n",
    "    nu = 0.3\n",
    "    )\n",
    "\n",
    "out = ddict(coeffs=coeffs,\n",
    "            err=np.inf)\n",
    "\n",
    "for i in range(10):\n",
    "    print(out)\n",
    "    if out.err < 1:\n",
    "        break\n",
    "        \n",
    "    out = get_bar_shape(block,\n",
    "                        [120,  500, 1200],\n",
    "                        *raw_to_meas,\n",
    "                        coeffs_initial=out.coeffs)\n",
    "    print(out.cents)\n",
    "    print(out.freqs_calib)\n",
    "    \n",
    "    plt.figure(figsize=[12,4])\n",
    "    plt.plot(out.block.line_xx*1000, out.block.line_yy*1000)\n",
    "    plt.show()"
   ]
  },
  {
   "cell_type": "code",
   "execution_count": null,
   "metadata": {},
   "outputs": [],
   "source": []
  }
 ],
 "metadata": {
  "kernelspec": {
   "display_name": "Python 3",
   "language": "python",
   "name": "python3"
  },
  "language_info": {
   "codemirror_mode": {
    "name": "ipython",
    "version": 3
   },
   "file_extension": ".py",
   "mimetype": "text/x-python",
   "name": "python",
   "nbconvert_exporter": "python",
   "pygments_lexer": "ipython3",
   "version": "3.7.3"
  }
 },
 "nbformat": 4,
 "nbformat_minor": 4
}
